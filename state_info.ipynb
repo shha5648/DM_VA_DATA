{
 "cells": [
  {
   "cell_type": "markdown",
   "metadata": {
    "collapsed": true
   },
   "source": [
    "State Data"
   ]
  },
  {
   "cell_type": "code",
   "execution_count": 2,
   "metadata": {
    "collapsed": true
   },
   "outputs": [],
   "source": [
    "import numpy as np\n",
    "import pandas as pd\n",
    "import matplotlib.pylab as plt \n",
    "%matplotlib inline"
   ]
  },
  {
   "cell_type": "code",
   "execution_count": 4,
   "metadata": {},
   "outputs": [],
   "source": [
    "fy14_ak = pd.read_csv('fy14_ak.csv')\n",
    "fy14_al = pd.read_csv('fy14_al.csv')\n",
    "fy14_ar = pd.read_csv('fy14_ar.csv')\n",
    "fy14_az = pd.read_csv('fy14_az.csv')\n",
    "fy14_ca = pd.read_csv('fy14_ca.csv')\n",
    "fy14_co = pd.read_csv('fy14_co.csv')\n",
    "fy14_ct = pd.read_csv('fy14_ct.csv')\n",
    "fy14_dc = pd.read_csv('fy14_dc.csv')\n",
    "fy14_de = pd.read_csv('fy14_de.csv')\n",
    "\n"
   ]
  }
 ],
 "metadata": {
  "kernelspec": {
   "display_name": "Python 3",
   "language": "python",
   "name": "python3"
  },
  "language_info": {
   "codemirror_mode": {
    "name": "ipython",
    "version": 3
   },
   "file_extension": ".py",
   "mimetype": "text/x-python",
   "name": "python",
   "nbconvert_exporter": "python",
   "pygments_lexer": "ipython3",
   "version": "3.6.1"
  }
 },
 "nbformat": 4,
 "nbformat_minor": 2
}
